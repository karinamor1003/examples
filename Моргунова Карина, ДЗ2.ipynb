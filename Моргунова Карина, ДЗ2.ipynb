{
 "cells": [
  {
   "cell_type": "code",
   "execution_count": 1,
   "id": "79f90ff1",
   "metadata": {
    "scrolled": true
   },
   "outputs": [],
   "source": [
    "import pandas as pd\n",
    "import numpy as np\n",
    "from sklearn.preprocessing import LabelEncoder\n"
   ]
  },
  {
   "cell_type": "markdown",
   "id": "658ac4a0",
   "metadata": {},
   "source": [
    "**Пункт 1**"
   ]
  },
  {
   "cell_type": "code",
   "execution_count": 2,
   "id": "f4d4376a",
   "metadata": {},
   "outputs": [],
   "source": [
    "df = pd.read_csv('dataset.csv')\n",
    "df = df[['city', 'target', 'gender', 'education_level', 'major_discipline', 'last_new_job', 'experience', 'relevent_experience']]"
   ]
  },
  {
   "cell_type": "markdown",
   "id": "fb58459e",
   "metadata": {},
   "source": [
    "Связь переменной target с другими:\n",
    "\n",
    "1. с переменной gender - женщины с большей вероятностью склонны к смене работы, так как обычно мужчина - основной источник дохода в семье и финансовая опора, это дает женщинам относительную свободу, они имеют больше возможности искать то, что им больше подходит\n",
    "2. с переменной education_level - чем выше уровень образования, тем меньше люди склонны к смене работы, так как обучение в университете подразумевает получение большого количества знаний в определенной сфере, в которой человек планирует работать в дальнейшем\n",
    "3. с major_discipline - люди, у которых нет определенной дисциплины, более сконны к изменению работы, так как у них не выбрана сфера развития\n",
    "4. experience - чем больше опыт работы, тем менее человек склонен к смене работы, так как вероятно уже нашел дело и место, в котором хочет развиваться\n",
    "5. relevent_experience - если у человека уже есть опыт, который относится к настоящей работе, то он с меньшей вероятностью будет ее менять\n",
    "6. last_new_job - чем меньше промежуток между прошлой и настоящей работой, тем менее вероятна смена работы \n",
    "7. city - довольно сложно на данном этапе предсказать связь между кодом города и сменой работы, потому что сам по себе код не дает информации"
   ]
  },
  {
   "cell_type": "code",
   "execution_count": 3,
   "id": "898b1104",
   "metadata": {},
   "outputs": [
    {
     "data": {
      "text/plain": [
       "array(['Graduate', 'Masters', 'High School', nan, 'Phd', 'Primary School'],\n",
       "      dtype=object)"
      ]
     },
     "execution_count": 3,
     "metadata": {},
     "output_type": "execute_result"
    }
   ],
   "source": [
    "df['education_level'].unique() "
   ]
  },
  {
   "cell_type": "code",
   "execution_count": 4,
   "id": "d9b8346a",
   "metadata": {},
   "outputs": [
    {
     "data": {
      "text/plain": [
       "array(['STEM', 'Business Degree', nan, 'Arts', 'Humanities', 'No Major',\n",
       "       'Other'], dtype=object)"
      ]
     },
     "execution_count": 4,
     "metadata": {},
     "output_type": "execute_result"
    }
   ],
   "source": [
    "df['major_discipline'].unique() "
   ]
  },
  {
   "cell_type": "code",
   "execution_count": 5,
   "id": "c8b925bb",
   "metadata": {},
   "outputs": [
    {
     "data": {
      "text/plain": [
       "array(['>20', '15', '5', '<1', '11', '13', '7', '17', '2', '16', '1', '4',\n",
       "       '10', '14', '18', '19', '12', '3', '6', '9', '8', '20', nan],\n",
       "      dtype=object)"
      ]
     },
     "execution_count": 5,
     "metadata": {},
     "output_type": "execute_result"
    }
   ],
   "source": [
    "df['experience'].unique() "
   ]
  },
  {
   "cell_type": "code",
   "execution_count": 6,
   "id": "dcd83317",
   "metadata": {},
   "outputs": [
    {
     "data": {
      "text/plain": [
       "array(['Has relevent experience', 'No relevent experience'], dtype=object)"
      ]
     },
     "execution_count": 6,
     "metadata": {},
     "output_type": "execute_result"
    }
   ],
   "source": [
    "df['relevent_experience'].unique() "
   ]
  },
  {
   "cell_type": "code",
   "execution_count": 7,
   "id": "2d43bec3",
   "metadata": {},
   "outputs": [
    {
     "data": {
      "text/plain": [
       "array(['1', '>4', 'never', '4', '3', '2', nan], dtype=object)"
      ]
     },
     "execution_count": 7,
     "metadata": {},
     "output_type": "execute_result"
    }
   ],
   "source": [
    "df['last_new_job'].unique() "
   ]
  },
  {
   "cell_type": "code",
   "execution_count": 8,
   "id": "b795d802",
   "metadata": {},
   "outputs": [
    {
     "data": {
      "text/plain": [
       "array(['city_103', 'city_40', 'city_21', 'city_115', 'city_162',\n",
       "       'city_176', 'city_160', 'city_46', 'city_61', 'city_114',\n",
       "       'city_13', 'city_159', 'city_102', 'city_67', 'city_100',\n",
       "       'city_16', 'city_71', 'city_104', 'city_64', 'city_101', 'city_83',\n",
       "       'city_105', 'city_73', 'city_75', 'city_41', 'city_11', 'city_93',\n",
       "       'city_90', 'city_36', 'city_20', 'city_57', 'city_152', 'city_19',\n",
       "       'city_65', 'city_74', 'city_173', 'city_136', 'city_98', 'city_97',\n",
       "       'city_50', 'city_138', 'city_82', 'city_157', 'city_89',\n",
       "       'city_150', 'city_70', 'city_175', 'city_94', 'city_28', 'city_59',\n",
       "       'city_165', 'city_145', 'city_142', 'city_26', 'city_12',\n",
       "       'city_37', 'city_43', 'city_116', 'city_23', 'city_99', 'city_149',\n",
       "       'city_10', 'city_45', 'city_80', 'city_128', 'city_158',\n",
       "       'city_123', 'city_7', 'city_72', 'city_106', 'city_143', 'city_78',\n",
       "       'city_109', 'city_24', 'city_134', 'city_48', 'city_144',\n",
       "       'city_91', 'city_146', 'city_133', 'city_126', 'city_118',\n",
       "       'city_9', 'city_167', 'city_27', 'city_84', 'city_54', 'city_39',\n",
       "       'city_79', 'city_76', 'city_77', 'city_81', 'city_131', 'city_44',\n",
       "       'city_117', 'city_155', 'city_33', 'city_141', 'city_127',\n",
       "       'city_62', 'city_53', 'city_25', 'city_2', 'city_69', 'city_120',\n",
       "       'city_111', 'city_30', 'city_1', 'city_140', 'city_179', 'city_55',\n",
       "       'city_14', 'city_42', 'city_107', 'city_18', 'city_139',\n",
       "       'city_180', 'city_166', 'city_121', 'city_129', 'city_8',\n",
       "       'city_31', 'city_171'], dtype=object)"
      ]
     },
     "execution_count": 8,
     "metadata": {},
     "output_type": "execute_result"
    }
   ],
   "source": [
    "df['city'].unique() "
   ]
  },
  {
   "cell_type": "markdown",
   "id": "fbe86b5d",
   "metadata": {},
   "source": [
    "**Пункт 2**"
   ]
  },
  {
   "cell_type": "markdown",
   "id": "dbeeddb3",
   "metadata": {},
   "source": [
    "Теперь уберем строчки с пропусками в датафрейме"
   ]
  },
  {
   "cell_type": "code",
   "execution_count": 9,
   "id": "3d9c4757",
   "metadata": {},
   "outputs": [
    {
     "data": {
      "text/html": [
       "<div>\n",
       "<style scoped>\n",
       "    .dataframe tbody tr th:only-of-type {\n",
       "        vertical-align: middle;\n",
       "    }\n",
       "\n",
       "    .dataframe tbody tr th {\n",
       "        vertical-align: top;\n",
       "    }\n",
       "\n",
       "    .dataframe thead th {\n",
       "        text-align: right;\n",
       "    }\n",
       "</style>\n",
       "<table border=\"1\" class=\"dataframe\">\n",
       "  <thead>\n",
       "    <tr style=\"text-align: right;\">\n",
       "      <th></th>\n",
       "      <th>city</th>\n",
       "      <th>target</th>\n",
       "      <th>gender</th>\n",
       "      <th>education_level</th>\n",
       "      <th>major_discipline</th>\n",
       "      <th>last_new_job</th>\n",
       "      <th>experience</th>\n",
       "      <th>relevent_experience</th>\n",
       "    </tr>\n",
       "  </thead>\n",
       "  <tbody>\n",
       "    <tr>\n",
       "      <th>0</th>\n",
       "      <td>city_103</td>\n",
       "      <td>1.0</td>\n",
       "      <td>Male</td>\n",
       "      <td>Graduate</td>\n",
       "      <td>STEM</td>\n",
       "      <td>1</td>\n",
       "      <td>&gt;20</td>\n",
       "      <td>Has relevent experience</td>\n",
       "    </tr>\n",
       "    <tr>\n",
       "      <th>1</th>\n",
       "      <td>city_40</td>\n",
       "      <td>0.0</td>\n",
       "      <td>Male</td>\n",
       "      <td>Graduate</td>\n",
       "      <td>STEM</td>\n",
       "      <td>&gt;4</td>\n",
       "      <td>15</td>\n",
       "      <td>No relevent experience</td>\n",
       "    </tr>\n",
       "    <tr>\n",
       "      <th>4</th>\n",
       "      <td>city_162</td>\n",
       "      <td>0.0</td>\n",
       "      <td>Male</td>\n",
       "      <td>Masters</td>\n",
       "      <td>STEM</td>\n",
       "      <td>4</td>\n",
       "      <td>&gt;20</td>\n",
       "      <td>Has relevent experience</td>\n",
       "    </tr>\n",
       "    <tr>\n",
       "      <th>7</th>\n",
       "      <td>city_46</td>\n",
       "      <td>1.0</td>\n",
       "      <td>Male</td>\n",
       "      <td>Graduate</td>\n",
       "      <td>STEM</td>\n",
       "      <td>&gt;4</td>\n",
       "      <td>13</td>\n",
       "      <td>Has relevent experience</td>\n",
       "    </tr>\n",
       "    <tr>\n",
       "      <th>8</th>\n",
       "      <td>city_103</td>\n",
       "      <td>1.0</td>\n",
       "      <td>Male</td>\n",
       "      <td>Graduate</td>\n",
       "      <td>STEM</td>\n",
       "      <td>1</td>\n",
       "      <td>7</td>\n",
       "      <td>Has relevent experience</td>\n",
       "    </tr>\n",
       "    <tr>\n",
       "      <th>...</th>\n",
       "      <td>...</td>\n",
       "      <td>...</td>\n",
       "      <td>...</td>\n",
       "      <td>...</td>\n",
       "      <td>...</td>\n",
       "      <td>...</td>\n",
       "      <td>...</td>\n",
       "      <td>...</td>\n",
       "    </tr>\n",
       "    <tr>\n",
       "      <th>19150</th>\n",
       "      <td>city_160</td>\n",
       "      <td>0.0</td>\n",
       "      <td>Female</td>\n",
       "      <td>Graduate</td>\n",
       "      <td>STEM</td>\n",
       "      <td>3</td>\n",
       "      <td>10</td>\n",
       "      <td>Has relevent experience</td>\n",
       "    </tr>\n",
       "    <tr>\n",
       "      <th>19152</th>\n",
       "      <td>city_103</td>\n",
       "      <td>0.0</td>\n",
       "      <td>Female</td>\n",
       "      <td>Graduate</td>\n",
       "      <td>Humanities</td>\n",
       "      <td>1</td>\n",
       "      <td>7</td>\n",
       "      <td>Has relevent experience</td>\n",
       "    </tr>\n",
       "    <tr>\n",
       "      <th>19153</th>\n",
       "      <td>city_173</td>\n",
       "      <td>1.0</td>\n",
       "      <td>Male</td>\n",
       "      <td>Graduate</td>\n",
       "      <td>Humanities</td>\n",
       "      <td>1</td>\n",
       "      <td>14</td>\n",
       "      <td>No relevent experience</td>\n",
       "    </tr>\n",
       "    <tr>\n",
       "      <th>19154</th>\n",
       "      <td>city_103</td>\n",
       "      <td>1.0</td>\n",
       "      <td>Male</td>\n",
       "      <td>Graduate</td>\n",
       "      <td>STEM</td>\n",
       "      <td>4</td>\n",
       "      <td>14</td>\n",
       "      <td>Has relevent experience</td>\n",
       "    </tr>\n",
       "    <tr>\n",
       "      <th>19155</th>\n",
       "      <td>city_103</td>\n",
       "      <td>0.0</td>\n",
       "      <td>Male</td>\n",
       "      <td>Graduate</td>\n",
       "      <td>STEM</td>\n",
       "      <td>4</td>\n",
       "      <td>&gt;20</td>\n",
       "      <td>Has relevent experience</td>\n",
       "    </tr>\n",
       "  </tbody>\n",
       "</table>\n",
       "<p>12606 rows × 8 columns</p>\n",
       "</div>"
      ],
      "text/plain": [
       "           city  target  gender education_level major_discipline last_new_job  \\\n",
       "0      city_103     1.0    Male        Graduate             STEM            1   \n",
       "1       city_40     0.0    Male        Graduate             STEM           >4   \n",
       "4      city_162     0.0    Male         Masters             STEM            4   \n",
       "7       city_46     1.0    Male        Graduate             STEM           >4   \n",
       "8      city_103     1.0    Male        Graduate             STEM            1   \n",
       "...         ...     ...     ...             ...              ...          ...   \n",
       "19150  city_160     0.0  Female        Graduate             STEM            3   \n",
       "19152  city_103     0.0  Female        Graduate       Humanities            1   \n",
       "19153  city_173     1.0    Male        Graduate       Humanities            1   \n",
       "19154  city_103     1.0    Male        Graduate             STEM            4   \n",
       "19155  city_103     0.0    Male        Graduate             STEM            4   \n",
       "\n",
       "      experience      relevent_experience  \n",
       "0            >20  Has relevent experience  \n",
       "1             15   No relevent experience  \n",
       "4            >20  Has relevent experience  \n",
       "7             13  Has relevent experience  \n",
       "8              7  Has relevent experience  \n",
       "...          ...                      ...  \n",
       "19150         10  Has relevent experience  \n",
       "19152          7  Has relevent experience  \n",
       "19153         14   No relevent experience  \n",
       "19154         14  Has relevent experience  \n",
       "19155        >20  Has relevent experience  \n",
       "\n",
       "[12606 rows x 8 columns]"
      ]
     },
     "execution_count": 9,
     "metadata": {},
     "output_type": "execute_result"
    }
   ],
   "source": [
    "df = df.dropna()\n",
    "df"
   ]
  },
  {
   "cell_type": "markdown",
   "id": "982dc4a0",
   "metadata": {},
   "source": [
    "Таким образом, в выборке осталось 12606 наблюдений."
   ]
  },
  {
   "cell_type": "markdown",
   "id": "157808c0",
   "metadata": {},
   "source": [
    "**Пункт 3**"
   ]
  },
  {
   "cell_type": "code",
   "execution_count": 10,
   "id": "182f5fd9",
   "metadata": {},
   "outputs": [
    {
     "data": {
      "text/html": [
       "<div>\n",
       "<style scoped>\n",
       "    .dataframe tbody tr th:only-of-type {\n",
       "        vertical-align: middle;\n",
       "    }\n",
       "\n",
       "    .dataframe tbody tr th {\n",
       "        vertical-align: top;\n",
       "    }\n",
       "\n",
       "    .dataframe thead th {\n",
       "        text-align: right;\n",
       "    }\n",
       "</style>\n",
       "<table border=\"1\" class=\"dataframe\">\n",
       "  <thead>\n",
       "    <tr style=\"text-align: right;\">\n",
       "      <th></th>\n",
       "      <th>city</th>\n",
       "      <th>target</th>\n",
       "      <th>gender</th>\n",
       "      <th>education_level</th>\n",
       "      <th>major_discipline</th>\n",
       "      <th>last_new_job</th>\n",
       "      <th>experience</th>\n",
       "      <th>relevent_experience</th>\n",
       "    </tr>\n",
       "  </thead>\n",
       "  <tbody>\n",
       "    <tr>\n",
       "      <th>0</th>\n",
       "      <td>city_103</td>\n",
       "      <td>1.0</td>\n",
       "      <td>Male</td>\n",
       "      <td>Graduate</td>\n",
       "      <td>STEM</td>\n",
       "      <td>1</td>\n",
       "      <td>&gt;20</td>\n",
       "      <td>Has relevent experience</td>\n",
       "    </tr>\n",
       "    <tr>\n",
       "      <th>4</th>\n",
       "      <td>city_162</td>\n",
       "      <td>0.0</td>\n",
       "      <td>Male</td>\n",
       "      <td>Masters</td>\n",
       "      <td>STEM</td>\n",
       "      <td>4</td>\n",
       "      <td>&gt;20</td>\n",
       "      <td>Has relevent experience</td>\n",
       "    </tr>\n",
       "    <tr>\n",
       "      <th>7</th>\n",
       "      <td>city_46</td>\n",
       "      <td>1.0</td>\n",
       "      <td>Male</td>\n",
       "      <td>Graduate</td>\n",
       "      <td>STEM</td>\n",
       "      <td>&gt;4</td>\n",
       "      <td>13</td>\n",
       "      <td>Has relevent experience</td>\n",
       "    </tr>\n",
       "    <tr>\n",
       "      <th>8</th>\n",
       "      <td>city_103</td>\n",
       "      <td>1.0</td>\n",
       "      <td>Male</td>\n",
       "      <td>Graduate</td>\n",
       "      <td>STEM</td>\n",
       "      <td>1</td>\n",
       "      <td>7</td>\n",
       "      <td>Has relevent experience</td>\n",
       "    </tr>\n",
       "    <tr>\n",
       "      <th>11</th>\n",
       "      <td>city_103</td>\n",
       "      <td>0.0</td>\n",
       "      <td>Male</td>\n",
       "      <td>Graduate</td>\n",
       "      <td>STEM</td>\n",
       "      <td>1</td>\n",
       "      <td>5</td>\n",
       "      <td>Has relevent experience</td>\n",
       "    </tr>\n",
       "    <tr>\n",
       "      <th>...</th>\n",
       "      <td>...</td>\n",
       "      <td>...</td>\n",
       "      <td>...</td>\n",
       "      <td>...</td>\n",
       "      <td>...</td>\n",
       "      <td>...</td>\n",
       "      <td>...</td>\n",
       "      <td>...</td>\n",
       "    </tr>\n",
       "    <tr>\n",
       "      <th>19149</th>\n",
       "      <td>city_103</td>\n",
       "      <td>1.0</td>\n",
       "      <td>Male</td>\n",
       "      <td>Masters</td>\n",
       "      <td>STEM</td>\n",
       "      <td>1</td>\n",
       "      <td>9</td>\n",
       "      <td>Has relevent experience</td>\n",
       "    </tr>\n",
       "    <tr>\n",
       "      <th>19150</th>\n",
       "      <td>city_160</td>\n",
       "      <td>0.0</td>\n",
       "      <td>Female</td>\n",
       "      <td>Graduate</td>\n",
       "      <td>STEM</td>\n",
       "      <td>3</td>\n",
       "      <td>10</td>\n",
       "      <td>Has relevent experience</td>\n",
       "    </tr>\n",
       "    <tr>\n",
       "      <th>19152</th>\n",
       "      <td>city_103</td>\n",
       "      <td>0.0</td>\n",
       "      <td>Female</td>\n",
       "      <td>Graduate</td>\n",
       "      <td>Humanities</td>\n",
       "      <td>1</td>\n",
       "      <td>7</td>\n",
       "      <td>Has relevent experience</td>\n",
       "    </tr>\n",
       "    <tr>\n",
       "      <th>19154</th>\n",
       "      <td>city_103</td>\n",
       "      <td>1.0</td>\n",
       "      <td>Male</td>\n",
       "      <td>Graduate</td>\n",
       "      <td>STEM</td>\n",
       "      <td>4</td>\n",
       "      <td>14</td>\n",
       "      <td>Has relevent experience</td>\n",
       "    </tr>\n",
       "    <tr>\n",
       "      <th>19155</th>\n",
       "      <td>city_103</td>\n",
       "      <td>0.0</td>\n",
       "      <td>Male</td>\n",
       "      <td>Graduate</td>\n",
       "      <td>STEM</td>\n",
       "      <td>4</td>\n",
       "      <td>&gt;20</td>\n",
       "      <td>Has relevent experience</td>\n",
       "    </tr>\n",
       "  </tbody>\n",
       "</table>\n",
       "<p>10082 rows × 8 columns</p>\n",
       "</div>"
      ],
      "text/plain": [
       "           city  target  gender education_level major_discipline last_new_job  \\\n",
       "0      city_103     1.0    Male        Graduate             STEM            1   \n",
       "4      city_162     0.0    Male         Masters             STEM            4   \n",
       "7       city_46     1.0    Male        Graduate             STEM           >4   \n",
       "8      city_103     1.0    Male        Graduate             STEM            1   \n",
       "11     city_103     0.0    Male        Graduate             STEM            1   \n",
       "...         ...     ...     ...             ...              ...          ...   \n",
       "19149  city_103     1.0    Male         Masters             STEM            1   \n",
       "19150  city_160     0.0  Female        Graduate             STEM            3   \n",
       "19152  city_103     0.0  Female        Graduate       Humanities            1   \n",
       "19154  city_103     1.0    Male        Graduate             STEM            4   \n",
       "19155  city_103     0.0    Male        Graduate             STEM            4   \n",
       "\n",
       "      experience      relevent_experience  \n",
       "0            >20  Has relevent experience  \n",
       "4            >20  Has relevent experience  \n",
       "7             13  Has relevent experience  \n",
       "8              7  Has relevent experience  \n",
       "11             5  Has relevent experience  \n",
       "...          ...                      ...  \n",
       "19149          9  Has relevent experience  \n",
       "19150         10  Has relevent experience  \n",
       "19152          7  Has relevent experience  \n",
       "19154         14  Has relevent experience  \n",
       "19155        >20  Has relevent experience  \n",
       "\n",
       "[10082 rows x 8 columns]"
      ]
     },
     "execution_count": 10,
     "metadata": {},
     "output_type": "execute_result"
    }
   ],
   "source": [
    "df_relevant = df[df['relevent_experience'] == 'Has relevent experience']\n",
    "df_relevant"
   ]
  },
  {
   "cell_type": "code",
   "execution_count": 11,
   "id": "8469a1c6",
   "metadata": {},
   "outputs": [
    {
     "name": "stdout",
     "output_type": "stream",
     "text": [
      "Доля выборки с релевантным опытом работы = 0.7997778835475171\n"
     ]
    }
   ],
   "source": [
    "print(f'Доля выборки с релевантным опытом работы = {10082/12606}')"
   ]
  },
  {
   "cell_type": "markdown",
   "id": "4cb95582",
   "metadata": {},
   "source": [
    "**Пункт 4**\n",
    "Создадим бинарную переменную по релевантному опыту работы"
   ]
  },
  {
   "cell_type": "code",
   "execution_count": 12,
   "id": "1308c0f3",
   "metadata": {},
   "outputs": [
    {
     "data": {
      "text/html": [
       "<div>\n",
       "<style scoped>\n",
       "    .dataframe tbody tr th:only-of-type {\n",
       "        vertical-align: middle;\n",
       "    }\n",
       "\n",
       "    .dataframe tbody tr th {\n",
       "        vertical-align: top;\n",
       "    }\n",
       "\n",
       "    .dataframe thead th {\n",
       "        text-align: right;\n",
       "    }\n",
       "</style>\n",
       "<table border=\"1\" class=\"dataframe\">\n",
       "  <thead>\n",
       "    <tr style=\"text-align: right;\">\n",
       "      <th></th>\n",
       "      <th>city</th>\n",
       "      <th>target</th>\n",
       "      <th>gender</th>\n",
       "      <th>education_level</th>\n",
       "      <th>major_discipline</th>\n",
       "      <th>last_new_job</th>\n",
       "      <th>experience</th>\n",
       "      <th>relevent_experience</th>\n",
       "      <th>relevent_experience_bin</th>\n",
       "    </tr>\n",
       "  </thead>\n",
       "  <tbody>\n",
       "    <tr>\n",
       "      <th>0</th>\n",
       "      <td>city_103</td>\n",
       "      <td>1.0</td>\n",
       "      <td>Male</td>\n",
       "      <td>Graduate</td>\n",
       "      <td>STEM</td>\n",
       "      <td>1</td>\n",
       "      <td>&gt;20</td>\n",
       "      <td>Has relevent experience</td>\n",
       "      <td>1</td>\n",
       "    </tr>\n",
       "    <tr>\n",
       "      <th>1</th>\n",
       "      <td>city_40</td>\n",
       "      <td>0.0</td>\n",
       "      <td>Male</td>\n",
       "      <td>Graduate</td>\n",
       "      <td>STEM</td>\n",
       "      <td>&gt;4</td>\n",
       "      <td>15</td>\n",
       "      <td>No relevent experience</td>\n",
       "      <td>0</td>\n",
       "    </tr>\n",
       "    <tr>\n",
       "      <th>4</th>\n",
       "      <td>city_162</td>\n",
       "      <td>0.0</td>\n",
       "      <td>Male</td>\n",
       "      <td>Masters</td>\n",
       "      <td>STEM</td>\n",
       "      <td>4</td>\n",
       "      <td>&gt;20</td>\n",
       "      <td>Has relevent experience</td>\n",
       "      <td>1</td>\n",
       "    </tr>\n",
       "    <tr>\n",
       "      <th>7</th>\n",
       "      <td>city_46</td>\n",
       "      <td>1.0</td>\n",
       "      <td>Male</td>\n",
       "      <td>Graduate</td>\n",
       "      <td>STEM</td>\n",
       "      <td>&gt;4</td>\n",
       "      <td>13</td>\n",
       "      <td>Has relevent experience</td>\n",
       "      <td>1</td>\n",
       "    </tr>\n",
       "    <tr>\n",
       "      <th>8</th>\n",
       "      <td>city_103</td>\n",
       "      <td>1.0</td>\n",
       "      <td>Male</td>\n",
       "      <td>Graduate</td>\n",
       "      <td>STEM</td>\n",
       "      <td>1</td>\n",
       "      <td>7</td>\n",
       "      <td>Has relevent experience</td>\n",
       "      <td>1</td>\n",
       "    </tr>\n",
       "    <tr>\n",
       "      <th>...</th>\n",
       "      <td>...</td>\n",
       "      <td>...</td>\n",
       "      <td>...</td>\n",
       "      <td>...</td>\n",
       "      <td>...</td>\n",
       "      <td>...</td>\n",
       "      <td>...</td>\n",
       "      <td>...</td>\n",
       "      <td>...</td>\n",
       "    </tr>\n",
       "    <tr>\n",
       "      <th>19150</th>\n",
       "      <td>city_160</td>\n",
       "      <td>0.0</td>\n",
       "      <td>Female</td>\n",
       "      <td>Graduate</td>\n",
       "      <td>STEM</td>\n",
       "      <td>3</td>\n",
       "      <td>10</td>\n",
       "      <td>Has relevent experience</td>\n",
       "      <td>1</td>\n",
       "    </tr>\n",
       "    <tr>\n",
       "      <th>19152</th>\n",
       "      <td>city_103</td>\n",
       "      <td>0.0</td>\n",
       "      <td>Female</td>\n",
       "      <td>Graduate</td>\n",
       "      <td>Humanities</td>\n",
       "      <td>1</td>\n",
       "      <td>7</td>\n",
       "      <td>Has relevent experience</td>\n",
       "      <td>1</td>\n",
       "    </tr>\n",
       "    <tr>\n",
       "      <th>19153</th>\n",
       "      <td>city_173</td>\n",
       "      <td>1.0</td>\n",
       "      <td>Male</td>\n",
       "      <td>Graduate</td>\n",
       "      <td>Humanities</td>\n",
       "      <td>1</td>\n",
       "      <td>14</td>\n",
       "      <td>No relevent experience</td>\n",
       "      <td>0</td>\n",
       "    </tr>\n",
       "    <tr>\n",
       "      <th>19154</th>\n",
       "      <td>city_103</td>\n",
       "      <td>1.0</td>\n",
       "      <td>Male</td>\n",
       "      <td>Graduate</td>\n",
       "      <td>STEM</td>\n",
       "      <td>4</td>\n",
       "      <td>14</td>\n",
       "      <td>Has relevent experience</td>\n",
       "      <td>1</td>\n",
       "    </tr>\n",
       "    <tr>\n",
       "      <th>19155</th>\n",
       "      <td>city_103</td>\n",
       "      <td>0.0</td>\n",
       "      <td>Male</td>\n",
       "      <td>Graduate</td>\n",
       "      <td>STEM</td>\n",
       "      <td>4</td>\n",
       "      <td>&gt;20</td>\n",
       "      <td>Has relevent experience</td>\n",
       "      <td>1</td>\n",
       "    </tr>\n",
       "  </tbody>\n",
       "</table>\n",
       "<p>12606 rows × 9 columns</p>\n",
       "</div>"
      ],
      "text/plain": [
       "           city  target  gender education_level major_discipline last_new_job  \\\n",
       "0      city_103     1.0    Male        Graduate             STEM            1   \n",
       "1       city_40     0.0    Male        Graduate             STEM           >4   \n",
       "4      city_162     0.0    Male         Masters             STEM            4   \n",
       "7       city_46     1.0    Male        Graduate             STEM           >4   \n",
       "8      city_103     1.0    Male        Graduate             STEM            1   \n",
       "...         ...     ...     ...             ...              ...          ...   \n",
       "19150  city_160     0.0  Female        Graduate             STEM            3   \n",
       "19152  city_103     0.0  Female        Graduate       Humanities            1   \n",
       "19153  city_173     1.0    Male        Graduate       Humanities            1   \n",
       "19154  city_103     1.0    Male        Graduate             STEM            4   \n",
       "19155  city_103     0.0    Male        Graduate             STEM            4   \n",
       "\n",
       "      experience      relevent_experience  relevent_experience_bin  \n",
       "0            >20  Has relevent experience                        1  \n",
       "1             15   No relevent experience                        0  \n",
       "4            >20  Has relevent experience                        1  \n",
       "7             13  Has relevent experience                        1  \n",
       "8              7  Has relevent experience                        1  \n",
       "...          ...                      ...                      ...  \n",
       "19150         10  Has relevent experience                        1  \n",
       "19152          7  Has relevent experience                        1  \n",
       "19153         14   No relevent experience                        0  \n",
       "19154         14  Has relevent experience                        1  \n",
       "19155        >20  Has relevent experience                        1  \n",
       "\n",
       "[12606 rows x 9 columns]"
      ]
     },
     "execution_count": 12,
     "metadata": {},
     "output_type": "execute_result"
    }
   ],
   "source": [
    "df['relevent_experience_bin'] = np.where(df['relevent_experience'] == 'Has relevent experience', 1, 0)\n",
    "df"
   ]
  },
  {
   "cell_type": "markdown",
   "id": "d73b96cd",
   "metadata": {},
   "source": [
    "Отсортируем данные и найдем квантиль"
   ]
  },
  {
   "cell_type": "code",
   "execution_count": 13,
   "id": "52d31bd7",
   "metadata": {},
   "outputs": [
    {
     "name": "stdout",
     "output_type": "stream",
     "text": [
      "70-квантиль: 1.0\n"
     ]
    }
   ],
   "source": [
    "df['relevent_experience_bin'].sort_values()\n",
    "q70 = np.percentile(df['relevent_experience_bin'], 70)\n",
    "print(\"70-квантиль:\", q70)"
   ]
  },
  {
   "cell_type": "markdown",
   "id": "d3898dac",
   "metadata": {},
   "source": [
    "То есть 70% выборки имеет релевантный опыт работы"
   ]
  },
  {
   "cell_type": "markdown",
   "id": "11fbe73d",
   "metadata": {},
   "source": [
    "**Пункт 5**\n",
    "\n",
    "Преобразуем все нечисловые переменные в числовые"
   ]
  },
  {
   "cell_type": "code",
   "execution_count": 27,
   "id": "cd52caca",
   "metadata": {},
   "outputs": [
    {
     "data": {
      "text/html": [
       "<div>\n",
       "<style scoped>\n",
       "    .dataframe tbody tr th:only-of-type {\n",
       "        vertical-align: middle;\n",
       "    }\n",
       "\n",
       "    .dataframe tbody tr th {\n",
       "        vertical-align: top;\n",
       "    }\n",
       "\n",
       "    .dataframe thead th {\n",
       "        text-align: right;\n",
       "    }\n",
       "</style>\n",
       "<table border=\"1\" class=\"dataframe\">\n",
       "  <thead>\n",
       "    <tr style=\"text-align: right;\">\n",
       "      <th></th>\n",
       "      <th>city</th>\n",
       "      <th>target</th>\n",
       "      <th>gender</th>\n",
       "      <th>education_level</th>\n",
       "      <th>major_discipline</th>\n",
       "      <th>last_new_job</th>\n",
       "      <th>experience</th>\n",
       "      <th>relevent_experience</th>\n",
       "      <th>relevent_experience_bin</th>\n",
       "      <th>city_num</th>\n",
       "      <th>education_level_num</th>\n",
       "      <th>major_discipline_num</th>\n",
       "      <th>experience_num</th>\n",
       "      <th>last_new_job_num</th>\n",
       "      <th>gender_num</th>\n",
       "    </tr>\n",
       "  </thead>\n",
       "  <tbody>\n",
       "    <tr>\n",
       "      <th>0</th>\n",
       "      <td>city_103</td>\n",
       "      <td>1.0</td>\n",
       "      <td>Male</td>\n",
       "      <td>Graduate</td>\n",
       "      <td>STEM</td>\n",
       "      <td>1</td>\n",
       "      <td>&gt;20</td>\n",
       "      <td>Has relevent experience</td>\n",
       "      <td>1</td>\n",
       "      <td>5</td>\n",
       "      <td>0</td>\n",
       "      <td>5</td>\n",
       "      <td>21</td>\n",
       "      <td>0</td>\n",
       "      <td>1</td>\n",
       "    </tr>\n",
       "    <tr>\n",
       "      <th>1</th>\n",
       "      <td>city_40</td>\n",
       "      <td>0.0</td>\n",
       "      <td>Male</td>\n",
       "      <td>Graduate</td>\n",
       "      <td>STEM</td>\n",
       "      <td>&gt;4</td>\n",
       "      <td>15</td>\n",
       "      <td>No relevent experience</td>\n",
       "      <td>0</td>\n",
       "      <td>75</td>\n",
       "      <td>0</td>\n",
       "      <td>5</td>\n",
       "      <td>6</td>\n",
       "      <td>4</td>\n",
       "      <td>1</td>\n",
       "    </tr>\n",
       "    <tr>\n",
       "      <th>4</th>\n",
       "      <td>city_162</td>\n",
       "      <td>0.0</td>\n",
       "      <td>Male</td>\n",
       "      <td>Masters</td>\n",
       "      <td>STEM</td>\n",
       "      <td>4</td>\n",
       "      <td>&gt;20</td>\n",
       "      <td>Has relevent experience</td>\n",
       "      <td>1</td>\n",
       "      <td>49</td>\n",
       "      <td>1</td>\n",
       "      <td>5</td>\n",
       "      <td>21</td>\n",
       "      <td>3</td>\n",
       "      <td>1</td>\n",
       "    </tr>\n",
       "    <tr>\n",
       "      <th>7</th>\n",
       "      <td>city_46</td>\n",
       "      <td>1.0</td>\n",
       "      <td>Male</td>\n",
       "      <td>Graduate</td>\n",
       "      <td>STEM</td>\n",
       "      <td>&gt;4</td>\n",
       "      <td>13</td>\n",
       "      <td>Has relevent experience</td>\n",
       "      <td>1</td>\n",
       "      <td>81</td>\n",
       "      <td>0</td>\n",
       "      <td>5</td>\n",
       "      <td>4</td>\n",
       "      <td>4</td>\n",
       "      <td>1</td>\n",
       "    </tr>\n",
       "    <tr>\n",
       "      <th>8</th>\n",
       "      <td>city_103</td>\n",
       "      <td>1.0</td>\n",
       "      <td>Male</td>\n",
       "      <td>Graduate</td>\n",
       "      <td>STEM</td>\n",
       "      <td>1</td>\n",
       "      <td>7</td>\n",
       "      <td>Has relevent experience</td>\n",
       "      <td>1</td>\n",
       "      <td>5</td>\n",
       "      <td>0</td>\n",
       "      <td>5</td>\n",
       "      <td>17</td>\n",
       "      <td>0</td>\n",
       "      <td>1</td>\n",
       "    </tr>\n",
       "    <tr>\n",
       "      <th>...</th>\n",
       "      <td>...</td>\n",
       "      <td>...</td>\n",
       "      <td>...</td>\n",
       "      <td>...</td>\n",
       "      <td>...</td>\n",
       "      <td>...</td>\n",
       "      <td>...</td>\n",
       "      <td>...</td>\n",
       "      <td>...</td>\n",
       "      <td>...</td>\n",
       "      <td>...</td>\n",
       "      <td>...</td>\n",
       "      <td>...</td>\n",
       "      <td>...</td>\n",
       "      <td>...</td>\n",
       "    </tr>\n",
       "    <tr>\n",
       "      <th>19150</th>\n",
       "      <td>city_160</td>\n",
       "      <td>0.0</td>\n",
       "      <td>Female</td>\n",
       "      <td>Graduate</td>\n",
       "      <td>STEM</td>\n",
       "      <td>3</td>\n",
       "      <td>10</td>\n",
       "      <td>Has relevent experience</td>\n",
       "      <td>1</td>\n",
       "      <td>48</td>\n",
       "      <td>0</td>\n",
       "      <td>5</td>\n",
       "      <td>1</td>\n",
       "      <td>2</td>\n",
       "      <td>0</td>\n",
       "    </tr>\n",
       "    <tr>\n",
       "      <th>19152</th>\n",
       "      <td>city_103</td>\n",
       "      <td>0.0</td>\n",
       "      <td>Female</td>\n",
       "      <td>Graduate</td>\n",
       "      <td>Humanities</td>\n",
       "      <td>1</td>\n",
       "      <td>7</td>\n",
       "      <td>Has relevent experience</td>\n",
       "      <td>1</td>\n",
       "      <td>5</td>\n",
       "      <td>0</td>\n",
       "      <td>2</td>\n",
       "      <td>17</td>\n",
       "      <td>0</td>\n",
       "      <td>0</td>\n",
       "    </tr>\n",
       "    <tr>\n",
       "      <th>19153</th>\n",
       "      <td>city_173</td>\n",
       "      <td>1.0</td>\n",
       "      <td>Male</td>\n",
       "      <td>Graduate</td>\n",
       "      <td>Humanities</td>\n",
       "      <td>1</td>\n",
       "      <td>14</td>\n",
       "      <td>No relevent experience</td>\n",
       "      <td>0</td>\n",
       "      <td>53</td>\n",
       "      <td>0</td>\n",
       "      <td>2</td>\n",
       "      <td>5</td>\n",
       "      <td>0</td>\n",
       "      <td>1</td>\n",
       "    </tr>\n",
       "    <tr>\n",
       "      <th>19154</th>\n",
       "      <td>city_103</td>\n",
       "      <td>1.0</td>\n",
       "      <td>Male</td>\n",
       "      <td>Graduate</td>\n",
       "      <td>STEM</td>\n",
       "      <td>4</td>\n",
       "      <td>14</td>\n",
       "      <td>Has relevent experience</td>\n",
       "      <td>1</td>\n",
       "      <td>5</td>\n",
       "      <td>0</td>\n",
       "      <td>5</td>\n",
       "      <td>5</td>\n",
       "      <td>3</td>\n",
       "      <td>1</td>\n",
       "    </tr>\n",
       "    <tr>\n",
       "      <th>19155</th>\n",
       "      <td>city_103</td>\n",
       "      <td>0.0</td>\n",
       "      <td>Male</td>\n",
       "      <td>Graduate</td>\n",
       "      <td>STEM</td>\n",
       "      <td>4</td>\n",
       "      <td>&gt;20</td>\n",
       "      <td>Has relevent experience</td>\n",
       "      <td>1</td>\n",
       "      <td>5</td>\n",
       "      <td>0</td>\n",
       "      <td>5</td>\n",
       "      <td>21</td>\n",
       "      <td>3</td>\n",
       "      <td>1</td>\n",
       "    </tr>\n",
       "  </tbody>\n",
       "</table>\n",
       "<p>12606 rows × 15 columns</p>\n",
       "</div>"
      ],
      "text/plain": [
       "           city  target  gender education_level major_discipline last_new_job  \\\n",
       "0      city_103     1.0    Male        Graduate             STEM            1   \n",
       "1       city_40     0.0    Male        Graduate             STEM           >4   \n",
       "4      city_162     0.0    Male         Masters             STEM            4   \n",
       "7       city_46     1.0    Male        Graduate             STEM           >4   \n",
       "8      city_103     1.0    Male        Graduate             STEM            1   \n",
       "...         ...     ...     ...             ...              ...          ...   \n",
       "19150  city_160     0.0  Female        Graduate             STEM            3   \n",
       "19152  city_103     0.0  Female        Graduate       Humanities            1   \n",
       "19153  city_173     1.0    Male        Graduate       Humanities            1   \n",
       "19154  city_103     1.0    Male        Graduate             STEM            4   \n",
       "19155  city_103     0.0    Male        Graduate             STEM            4   \n",
       "\n",
       "      experience      relevent_experience  relevent_experience_bin  city_num  \\\n",
       "0            >20  Has relevent experience                        1         5   \n",
       "1             15   No relevent experience                        0        75   \n",
       "4            >20  Has relevent experience                        1        49   \n",
       "7             13  Has relevent experience                        1        81   \n",
       "8              7  Has relevent experience                        1         5   \n",
       "...          ...                      ...                      ...       ...   \n",
       "19150         10  Has relevent experience                        1        48   \n",
       "19152          7  Has relevent experience                        1         5   \n",
       "19153         14   No relevent experience                        0        53   \n",
       "19154         14  Has relevent experience                        1         5   \n",
       "19155        >20  Has relevent experience                        1         5   \n",
       "\n",
       "       education_level_num  major_discipline_num  experience_num  \\\n",
       "0                        0                     5              21   \n",
       "1                        0                     5               6   \n",
       "4                        1                     5              21   \n",
       "7                        0                     5               4   \n",
       "8                        0                     5              17   \n",
       "...                    ...                   ...             ...   \n",
       "19150                    0                     5               1   \n",
       "19152                    0                     2              17   \n",
       "19153                    0                     2               5   \n",
       "19154                    0                     5               5   \n",
       "19155                    0                     5              21   \n",
       "\n",
       "       last_new_job_num  gender_num  \n",
       "0                     0           1  \n",
       "1                     4           1  \n",
       "4                     3           1  \n",
       "7                     4           1  \n",
       "8                     0           1  \n",
       "...                 ...         ...  \n",
       "19150                 2           0  \n",
       "19152                 0           0  \n",
       "19153                 0           1  \n",
       "19154                 3           1  \n",
       "19155                 3           1  \n",
       "\n",
       "[12606 rows x 15 columns]"
      ]
     },
     "execution_count": 27,
     "metadata": {},
     "output_type": "execute_result"
    }
   ],
   "source": [
    "df['city_num'] = LabelEncoder().fit_transform(df['city'])\n",
    "df['gender_num'] = LabelEncoder().fit_transform(df['gender'])\n",
    "df['education_level_num'] = LabelEncoder().fit_transform(df['education_level'])\n",
    "df['major_discipline_num'] = LabelEncoder().fit_transform(df['major_discipline'])\n",
    "df['experience_num'] = LabelEncoder().fit_transform(df['experience'])\n",
    "df['last_new_job_num'] = LabelEncoder().fit_transform(df['last_new_job'])\n",
    "df"
   ]
  },
  {
   "cell_type": "markdown",
   "id": "d6a0fce6",
   "metadata": {},
   "source": [
    "**Пункт 6**\n"
   ]
  },
  {
   "cell_type": "code",
   "execution_count": 28,
   "id": "55a9a97e",
   "metadata": {},
   "outputs": [],
   "source": [
    "from sklearn.model_selection import train_test_split"
   ]
  },
  {
   "cell_type": "markdown",
   "id": "6193a3b1",
   "metadata": {},
   "source": [
    "Разделение выборки на обучающую (60%) и тестовую (40%) подвыборки"
   ]
  },
  {
   "cell_type": "code",
   "execution_count": 29,
   "id": "4c681dbe",
   "metadata": {},
   "outputs": [
    {
     "name": "stdout",
     "output_type": "stream",
     "text": [
      "<class 'pandas.core.frame.DataFrame'>\n",
      "Index: 12606 entries, 0 to 19155\n",
      "Data columns (total 15 columns):\n",
      " #   Column                   Non-Null Count  Dtype  \n",
      "---  ------                   --------------  -----  \n",
      " 0   city                     12606 non-null  object \n",
      " 1   target                   12606 non-null  float64\n",
      " 2   gender                   12606 non-null  object \n",
      " 3   education_level          12606 non-null  object \n",
      " 4   major_discipline         12606 non-null  object \n",
      " 5   last_new_job             12606 non-null  object \n",
      " 6   experience               12606 non-null  object \n",
      " 7   relevent_experience      12606 non-null  object \n",
      " 8   relevent_experience_bin  12606 non-null  int64  \n",
      " 9   city_num                 12606 non-null  int64  \n",
      " 10  education_level_num      12606 non-null  int64  \n",
      " 11  major_discipline_num     12606 non-null  int64  \n",
      " 12  experience_num           12606 non-null  int64  \n",
      " 13  last_new_job_num         12606 non-null  int64  \n",
      " 14  gender_num               12606 non-null  int64  \n",
      "dtypes: float64(1), int64(7), object(7)\n",
      "memory usage: 1.5+ MB\n"
     ]
    }
   ],
   "source": [
    "df.info()"
   ]
  },
  {
   "cell_type": "code",
   "execution_count": 37,
   "id": "826646c1",
   "metadata": {},
   "outputs": [
    {
     "name": "stdout",
     "output_type": "stream",
     "text": [
      "В тестовую выборку попало 5043 наблюдений\n",
      "В выборку для обучения попало 7563 наблюдений\n"
     ]
    }
   ],
   "source": [
    "y = df['target']\n",
    "X = df[['relevent_experience_bin','education_level_num', 'gender_num', 'city_num', 'major_discipline_num', 'experience_num', 'last_new_job_num']]\n",
    "X_train, X_test, y_train, y_test = train_test_split(X, y, test_size = 0.4, random_state = 42)\n",
    "print(f'В тестовую выборку попало {len(X_test)} наблюдений')\n",
    "print(f'В выборку для обучения попало {len(X_train)} наблюдений')"
   ]
  },
  {
   "cell_type": "markdown",
   "id": "f2239934",
   "metadata": {},
   "source": [
    "**Пункт 7**\n",
    "\n",
    "Стандартизация переменных в методе k-ближайших соседей заключается в приведении значений переменных к нормальному расмпределению и единному масштабу. Это требуется из-за того, что метод основан на измерении расстояний между точками данных. Если переменные имеют разные масштабы, то переменные с более широкими диапазонами значений могут оказать большее влияние на расстояния между точками, чем переменные с более узкими диапазонами значений.\n",
    "\n",
    "Путем стандартизации переменных мы приводим их к среднему значению 0 и стандартному отклонению 1 (или другому желаемому масштабу). Это позволяет корректно сравнивать влияние различных переменных на итоговый результат метода k-NN и предотвращает преувеличение влияния переменных с большими значениями.\n",
    "\n",
    "Стандартизация перемемнных необходима и в нашем дататсете, так как в нем содератся данные с разным разброс."
   ]
  },
  {
   "cell_type": "code",
   "execution_count": 38,
   "id": "65d4113a",
   "metadata": {},
   "outputs": [
    {
     "data": {
      "text/plain": [
       "array([[ 0.5027669 ,  1.34573514,  0.26120351, ...,  0.324499  ,\n",
       "         1.17198259, -0.90645682],\n",
       "       [ 0.5027669 ,  1.34573514,  0.26120351, ...,  0.324499  ,\n",
       "         1.17198259, -0.90645682],\n",
       "       [ 0.5027669 ,  1.34573514,  0.26120351, ...,  0.324499  ,\n",
       "         0.15219477, -0.90645682],\n",
       "       ...,\n",
       "       [ 0.5027669 , -0.60216818,  0.26120351, ...,  0.324499  ,\n",
       "        -1.74169689, -0.90645682],\n",
       "       [ 0.5027669 , -0.60216818,  0.26120351, ...,  0.324499  ,\n",
       "        -0.86759304, -0.35779472],\n",
       "       [ 0.5027669 ,  1.34573514,  0.26120351, ...,  0.324499  ,\n",
       "        -0.86759304,  1.83685368]])"
      ]
     },
     "execution_count": 38,
     "metadata": {},
     "output_type": "execute_result"
    }
   ],
   "source": [
    "from sklearn.preprocessing import StandardScaler\n",
    "scaler = StandardScaler()\n",
    "scaler.fit(X_train)\n",
    "X_train = scaler.transform(X_train)\n",
    "X_test = scaler.transform(X_test)\n",
    "X_train\n",
    "X_test"
   ]
  },
  {
   "cell_type": "markdown",
   "id": "ba722e4a",
   "metadata": {},
   "source": [
    "**Пункт 8**"
   ]
  },
  {
   "cell_type": "code",
   "execution_count": 39,
   "id": "92272ed8",
   "metadata": {},
   "outputs": [],
   "source": [
    "from sklearn.neighbors import KNeighborsClassifier\n",
    "from sklearn.neighbors import KNeighborsRegressor"
   ]
  },
  {
   "cell_type": "code",
   "execution_count": 40,
   "id": "3629df3d",
   "metadata": {},
   "outputs": [],
   "source": [
    "classifier = KNeighborsClassifier(n_neighbors=3)\n",
    "classifier.fit(X_train, y_train)\n",
    "y_pred_knn = classifier.predict(X_test)"
   ]
  },
  {
   "cell_type": "code",
   "execution_count": 41,
   "id": "fa7bcf71",
   "metadata": {},
   "outputs": [
    {
     "data": {
      "text/plain": [
       "array([0., 0., 1., ..., 0., 0., 0.])"
      ]
     },
     "execution_count": 41,
     "metadata": {},
     "output_type": "execute_result"
    }
   ],
   "source": [
    "y_pred_knn"
   ]
  },
  {
   "cell_type": "markdown",
   "id": "4b15b0b8",
   "metadata": {},
   "source": [
    "**Пункт 9**"
   ]
  },
  {
   "cell_type": "code",
   "execution_count": 42,
   "id": "d4b80da4",
   "metadata": {},
   "outputs": [
    {
     "data": {
      "text/plain": [
       "0.25639500297441997"
      ]
     },
     "execution_count": 42,
     "metadata": {},
     "output_type": "execute_result"
    }
   ],
   "source": [
    "from sklearn.metrics import accuracy_score\n",
    "1 - accuracy_score(y_test, y_pred_knn)"
   ]
  },
  {
   "cell_type": "markdown",
   "id": "3d1cc2c6",
   "metadata": {},
   "source": [
    "Ошибка (error rate) может быть неинформативной метрикой при оценке качества прогноза, потому что она не учитывает типы ошибок, неоднородность данных, контекст и цену ошибки, а также неустойчивость к несбалансированным данным. Для более полной оценки качества модели следует использовать комплексный набор метрик."
   ]
  },
  {
   "cell_type": "markdown",
   "id": "ce73d888",
   "metadata": {},
   "source": [
    "**Пункт 10**"
   ]
  },
  {
   "cell_type": "code",
   "execution_count": 43,
   "id": "8e7d5ca8",
   "metadata": {},
   "outputs": [],
   "source": [
    "from statsmodels.compat import lzip\n",
    "from sklearn.metrics import confusion_matrix\n",
    "import seaborn as sns\n",
    "from sklearn.metrics import classification_report, confusion_matrix"
   ]
  },
  {
   "cell_type": "code",
   "execution_count": 44,
   "id": "5c1f9206",
   "metadata": {},
   "outputs": [
    {
     "name": "stdout",
     "output_type": "stream",
     "text": [
      "              precision    recall  f1-score   support\n",
      "\n",
      "         0.0       0.80      0.88      0.84      3824\n",
      "         1.0       0.46      0.32      0.37      1219\n",
      "\n",
      "    accuracy                           0.74      5043\n",
      "   macro avg       0.63      0.60      0.61      5043\n",
      "weighted avg       0.72      0.74      0.73      5043\n",
      "\n"
     ]
    },
    {
     "data": {
      "image/png": "[encoded data removed]",
      "text/plain": [
       "<Figure size 640x480 with 2 Axes>"
      ]
     },
     "metadata": {},
     "output_type": "display_data"
    }
   ],
   "source": [
    "classes_names = ['not looking for job change', 'looking for job change']\n",
    "cm = pd.DataFrame(confusion_matrix(y_test, y_pred_knn), \n",
    "                  columns=classes_names, index = classes_names)\n",
    "\n",
    "sns.heatmap(cm, annot=True, fmt='d');\n",
    "\n",
    "print(classification_report(y_test, y_pred_knn))"
   ]
  },
  {
   "cell_type": "markdown",
   "id": "4ac52e77",
   "metadata": {},
   "source": [
    "Итого получилось 833 ложноположительных результата и 460 ложноотрицательных результата."
   ]
  },
  {
   "cell_type": "markdown",
   "id": "b398ae8c",
   "metadata": {},
   "source": [
    "**Пункт 11**"
   ]
  },
  {
   "cell_type": "code",
   "execution_count": 47,
   "id": "137f667a",
   "metadata": {},
   "outputs": [],
   "source": [
    "from sklearn.metrics import precision_score, recall_score, accuracy_score"
   ]
  },
  {
   "cell_type": "code",
   "execution_count": 50,
   "id": "1c7ac470",
   "metadata": {},
   "outputs": [
    {
     "name": "stdout",
     "output_type": "stream",
     "text": [
      "Точность (accuracy) = 0.74360499702558\n",
      "Точность (precision) = 0.4562647754137116\n",
      "Полнота (recall) = 0.3166529942575882\n"
     ]
    }
   ],
   "source": [
    "accuracy = accuracy_score(y_test, y_pred_knn)\n",
    "precision = precision_score(y_test, y_pred_knn)\n",
    "recall = recall_score(y_test, y_pred_knn)\n",
    "print(f'Точность (accuracy) = {accuracy}')\n",
    "print(f'Точность (precision) = {precision}')\n",
    "print(f'Полнота (recall) = {recall}')"
   ]
  },
  {
   "cell_type": "markdown",
   "id": "bf40b8fa",
   "metadata": {},
   "source": [
    "Посчитаем эти показатели вручную с помощью формул:\n",
    "\n",
    "Точность (accuracy) = (TP + TN)/(TP + FP + FN + TN)\n",
    "\n",
    "Точность (precision) = TP/(TP + FP)\n",
    "\n",
    "Полнота (recall) = TP/(TP + FN)\n"
   ]
  },
  {
   "cell_type": "code",
   "execution_count": 51,
   "id": "d257ec78",
   "metadata": {},
   "outputs": [],
   "source": [
    "conf_matrix = confusion_matrix(y_test, y_pred_knn)"
   ]
  },
  {
   "cell_type": "code",
   "execution_count": 54,
   "id": "8ce293a6",
   "metadata": {},
   "outputs": [
    {
     "name": "stdout",
     "output_type": "stream",
     "text": [
      "Точность (Accuracy): 0.74360499702558\n",
      "Точность (Precision): 0.4562647754137116\n",
      "Полнота (Recall): 0.3166529942575882\n"
     ]
    }
   ],
   "source": [
    "TP = conf_matrix[1][1]\n",
    "FP = conf_matrix[0][1] \n",
    "FN = conf_matrix[1][0] \n",
    "TN = conf_matrix[0][0] \n",
    "\n",
    "accuracy = (TP + TN) / (TP + FP + FN + TN)\n",
    "precision = TP / (TP + FP)\n",
    "recall = TP / (TP + FN)\n",
    "\n",
    "print(\"Точность (Accuracy):\", accuracy)\n",
    "print(\"Точность (Precision):\", precision)\n",
    "print(\"Полнота (Recall):\", recall)"
   ]
  },
  {
   "cell_type": "markdown",
   "id": "2462ed1e",
   "metadata": {},
   "source": [
    "**Пункт 12**"
   ]
  },
  {
   "cell_type": "code",
   "execution_count": 61,
   "id": "77d37820",
   "metadata": {},
   "outputs": [
    {
     "name": "stdout",
     "output_type": "stream",
     "text": [
      "При количестве соседей, равном 2, достигается лучшее качество прогноза\n",
      "f-статистика для такого количества соседей = 0.374\n"
     ]
    }
   ],
   "source": [
    "from sklearn.metrics import f1_score\n",
    "f1s = []\n",
    "\n",
    "for i in range(1, 40):\n",
    "    knn = KNeighborsClassifier(n_neighbors=i)\n",
    "    knn.fit(X_train, y_train)\n",
    "    pred_i = knn.predict(X_test)\n",
    "    f1s.append(f1_score(y_test, pred_i))\n",
    "print(f\"При количестве соседей, равном {np.array(f1s).argmax()}, достигается лучшее качество прогноза\")\n",
    "print(f\"f-статистика для такого количества соседей = {round(max(f1s),3)}\")"
   ]
  },
  {
   "cell_type": "markdown",
   "id": "391948db",
   "metadata": {},
   "source": [
    "**Пункт 13**"
   ]
  },
  {
   "cell_type": "markdown",
   "id": "eff03174",
   "metadata": {},
   "source": [
    "Недостатки метода k-ближайших соседей (k-NN):\n",
    "\n",
    "1. Чувствительность к масштабу: Алгоритм чувствителен к масштабу признаков, поэтому стандартизация данных обычно необходима.\n",
    "2. Вычислительная сложность: При больших объемах данных и/или большом числе признаков алгоритм может быть вычислительно затратным.\n",
    "3. Неэффективность с большим числом признаков: При увеличении числа признаков \"проклятие размерности\" делает пространство более разреженным, что ухудшает производительность k-NN.\n",
    "4. Неоднозначность выбора оптимального k: Выбор оптимального числа соседей (k) может быть нетривиальным и влияет на качество предсказаний.\n",
    "5. Отсутствие обучения: Метод k-NN не обучает модель в явном виде, что может быть невыгодно в сравнении с другими алгоритмами.\n",
    "\n",
    "\n",
    "Слишком большое количество соседей:\n",
    "\n",
    "Может привести к недостаточной гибкости модели, особенно при сложных данных, и к упрощению гипотезы.\n",
    "\n",
    "Слишком маленькое количество соседей:\n",
    "\n",
    "Может делать модель чувствительной к шуму в данных и выбросам, что может привести к переобучению."
   ]
  },
  {
   "cell_type": "code",
   "execution_count": null,
   "id": "c6b3ae49",
   "metadata": {},
   "outputs": [],
   "source": []
  }
 ],
 "metadata": {
  "kernelspec": {
   "display_name": "Python 3 (ipykernel)",
   "language": "python",
   "name": "python3"
  },
  "language_info": {
   "codemirror_mode": {
    "name": "ipython",
    "version": 3
   },
   "file_extension": ".py",
   "mimetype": "text/x-python",
   "name": "python",
   "nbconvert_exporter": "python",
   "pygments_lexer": "ipython3",
   "version": "3.11.5"
  }
 },
 "nbformat": 4,
 "nbformat_minor": 5
}
